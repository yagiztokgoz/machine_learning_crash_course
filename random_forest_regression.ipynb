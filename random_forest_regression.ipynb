{
 "cells": [
  {
   "cell_type": "code",
   "execution_count": 1,
   "metadata": {},
   "outputs": [],
   "source": [
    "import pandas as pd \n",
    "import numpy as np\n",
    "\n",
    "import matplotlib.pyplot as plt\n",
    "\n"
   ]
  },
  {
   "cell_type": "code",
   "execution_count": 3,
   "metadata": {},
   "outputs": [],
   "source": [
    "df = pd.read_csv(r\"C:\\Users\\yagiz\\Downloads\\decision+tree+regression+dataset.csv\", sep=\";\", header=None)\n",
    "\n",
    "x = df.iloc[:,0].values.reshape(-1, 1)\n",
    "y = df.iloc[:, 1].values.reshape(-1, 1)\n",
    "\n"
   ]
  },
  {
   "cell_type": "code",
   "execution_count": 5,
   "metadata": {},
   "outputs": [
    {
     "name": "stderr",
     "output_type": "stream",
     "text": [
      "C:\\Users\\yagiz\\AppData\\Local\\Temp/ipykernel_13104/274139271.py:5: DataConversionWarning: A column-vector y was passed when a 1d array was expected. Please change the shape of y to (n_samples,), for example using ravel().\n",
      "  rf.fit(x, y)\n"
     ]
    },
    {
     "data": {
      "text/plain": [
       "array([22.7])"
      ]
     },
     "execution_count": 5,
     "metadata": {},
     "output_type": "execute_result"
    }
   ],
   "source": [
    "from sklearn.ensemble import RandomForestRegressor\n",
    "\n",
    "rf = RandomForestRegressor(n_estimators= 100, random_state=42)\n",
    "\n",
    "rf.fit(x, y)\n",
    "\n",
    "rf.predict([[7.8]])"
   ]
  },
  {
   "cell_type": "code",
   "execution_count": 6,
   "metadata": {},
   "outputs": [
    {
     "data": {
      "image/png": "[encoded data removed]",
      "text/plain": [
       "<Figure size 432x288 with 1 Axes>"
      ]
     },
     "metadata": {
      "needs_background": "light"
     },
     "output_type": "display_data"
    }
   ],
   "source": [
    "x_ = np.arange(min(x), max(x), 0.01).reshape(-1, 1)\n",
    "y_head = rf.predict(x_)\n",
    "\n",
    "plt.scatter(x, y, color = \"red\")\n",
    "plt.plot(x_, y_head, color = \"green\")\n",
    "plt.xlabel(\"tribun level\")\n",
    "plt.ylabel(\"cost\")\n",
    "\n",
    "plt.show()"
   ]
  }
 ],
 "metadata": {
  "kernelspec": {
   "display_name": "Python 3.8.7 64-bit",
   "language": "python",
   "name": "python3"
  },
  "language_info": {
   "codemirror_mode": {
    "name": "ipython",
    "version": 3
   },
   "file_extension": ".py",
   "mimetype": "text/x-python",
   "name": "python",
   "nbconvert_exporter": "python",
   "pygments_lexer": "ipython3",
   "version": "3.8.7"
  },
  "orig_nbformat": 4,
  "vscode": {
   "interpreter": {
    "hash": "3708ddcfdd67ed33e6f926f4e9d2d3333122980e0aa8e9137177ada606c464e4"
   }
  }
 },
 "nbformat": 4,
 "nbformat_minor": 2
}
