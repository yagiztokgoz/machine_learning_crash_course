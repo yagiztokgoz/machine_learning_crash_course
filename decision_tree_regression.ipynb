{
 "cells": [
  {
   "cell_type": "code",
   "execution_count": null,
   "metadata": {},
   "outputs": [],
   "source": []
  }
 ],
 "metadata": {
  "kernelspec": {
   "display_name": "Python 3.8.0 64-bit",
   "language": "python",
   "name": "python3"
  },
  "language_info": {
   "name": "python",
   "version": "3.8.0"
  },
  "orig_nbformat": 4,
  "vscode": {
   "interpreter": {
    "hash": "3708ddcfdd67ed33e6f926f4e9d2d3333122980e0aa8e9137177ada606c464e4"
   }
  }
 },
 "nbformat": 4,
 "nbformat_minor": 2
}
